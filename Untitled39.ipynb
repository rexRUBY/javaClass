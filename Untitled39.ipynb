{
 "cells": [
  {
   "cell_type": "code",
   "execution_count": 4,
   "id": "a1ca63c9",
   "metadata": {},
   "outputs": [
    {
     "data": {
      "text/plain": [
       "['0503 (1).xlsx',\n",
       " '0503.xlsx',\n",
       " '6_2022학년도_전공심화_교과과정표(컴퓨터공학과).pdf',\n",
       " '8_2022학년도_전공심화_교과과정표(인터넷보안공학과).pdf',\n",
       " 'ch5.hwp',\n",
       " 'ch8.hwp',\n",
       " 'desktop.ini',\n",
       " 'housing.data',\n",
       " 'IP 프로토콜.pdf',\n",
       " 'KakaoTalk_Setup.exe',\n",
       " 'sales-feb-2014.xlsx',\n",
       " 'sales-jan-2014.xlsx',\n",
       " 'sales-mar-2014.xlsx',\n",
       " 'temp',\n",
       " 'test (1).csv',\n",
       " 'test.csv',\n",
       " 'train.csv',\n",
       " 'ubuntu-20.04.4-desktop-amd64.iso',\n",
       " 'VMware-player-full-16.2.3-19376536.exe',\n",
       " 'Wireshark-win64-3.6.3.exe',\n",
       " '강의소개_시스템프로그래밍1 (1).pdf',\n",
       " '강의소개_시스템프로그래밍1.pdf',\n",
       " '네트워크_2장_네트워크 모델.pdf',\n",
       " '네트워크_7장_IP 프로토콜 (1).pdf',\n",
       " '네트워크_7장_IP 프로토콜.pdf',\n",
       " '네트워크_8장_네트워크 계층 (1).pdf',\n",
       " '네트워크_8장_네트워크 계층.pdf',\n",
       " '네트워크_9장_TCP 프로토콜 (1).pdf',\n",
       " '네트워크_9장_TCP 프로토콜.pdf',\n",
       " '데이터분석_3장.pdf',\n",
       " '데이터분석_4장.pdf',\n",
       " '데이터분석_5장.pdf',\n",
       " '데이터분석_6장 (1).pdf',\n",
       " '리눅스 명령어 연습_요약 (1).pdf',\n",
       " '리눅스 명령어 연습_요약.pdf',\n",
       " '리눅스마스터2급20211211(교사용).hwp',\n",
       " '시스템프로그래밍_01장 (1).pdf',\n",
       " '시스템프로그래밍_01장.pdf',\n",
       " '시스템프로그래밍_01주차.pdf',\n",
       " '시스템프로그래밍_02장 (1).pdf',\n",
       " '시스템프로그래밍_02장.pdf',\n",
       " '시스템프로그래밍_03장 (1).pdf',\n",
       " '시스템프로그래밍_03장.pdf',\n",
       " '시스템프로그래밍_04장.pdf',\n",
       " '시스템프로그래밍_05장 (1).pdf',\n",
       " '시스템프로그래밍_05장.pdf',\n",
       " '시스템프로그래밍_06장.pdf',\n",
       " '시스템프로그래밍_07장.pdf',\n",
       " '시스템프로그래밍_08장 (1).pdf',\n",
       " '시스템프로그래밍_08장.pdf',\n",
       " '시스템프로그래밍_09장.pdf',\n",
       " '이력서 포맷.hwp',\n",
       " '인공지능10주차_2021671029_박예서 (1).hwp',\n",
       " '인공지능10주차_2021671029_박예서.hwp']"
      ]
     },
     "execution_count": 4,
     "metadata": {},
     "output_type": "execute_result"
    }
   ],
   "source": [
    "import pandas as pd\n",
    "import os\n",
    "import matplotlib.pyplot as plt\n",
    "import numpy as np\n",
    "\n",
    "import seaborn as sns\n",
    "sns.set(style=\"whitegrid\", color_codes=True)\n",
    "\n",
    "DATA_DIR=\"C:\\\\Users\\\\user\\\\Downloads\"\n",
    "os.listdir(DATA_DIR)"
   ]
  },
  {
   "cell_type": "code",
   "execution_count": 8,
   "id": "f30624ce",
   "metadata": {},
   "outputs": [
    {
     "data": {
      "text/plain": [
       "['C:\\\\Users\\\\user\\\\Downloads\\\\인공지능10주차_2021671029_박예서.hwp',\n",
       " 'C:\\\\Users\\\\user\\\\Downloads\\\\인공지능10주차_2021671029_박예서 (1).hwp',\n",
       " 'C:\\\\Users\\\\user\\\\Downloads\\\\이력서 포맷.hwp',\n",
       " 'C:\\\\Users\\\\user\\\\Downloads\\\\시스템프로그래밍_09장.pdf',\n",
       " 'C:\\\\Users\\\\user\\\\Downloads\\\\시스템프로그래밍_08장.pdf',\n",
       " 'C:\\\\Users\\\\user\\\\Downloads\\\\시스템프로그래밍_08장 (1).pdf',\n",
       " 'C:\\\\Users\\\\user\\\\Downloads\\\\시스템프로그래밍_07장.pdf',\n",
       " 'C:\\\\Users\\\\user\\\\Downloads\\\\시스템프로그래밍_06장.pdf',\n",
       " 'C:\\\\Users\\\\user\\\\Downloads\\\\시스템프로그래밍_05장.pdf',\n",
       " 'C:\\\\Users\\\\user\\\\Downloads\\\\시스템프로그래밍_05장 (1).pdf',\n",
       " 'C:\\\\Users\\\\user\\\\Downloads\\\\시스템프로그래밍_04장.pdf',\n",
       " 'C:\\\\Users\\\\user\\\\Downloads\\\\시스템프로그래밍_03장.pdf',\n",
       " 'C:\\\\Users\\\\user\\\\Downloads\\\\시스템프로그래밍_03장 (1).pdf',\n",
       " 'C:\\\\Users\\\\user\\\\Downloads\\\\시스템프로그래밍_02장.pdf',\n",
       " 'C:\\\\Users\\\\user\\\\Downloads\\\\시스템프로그래밍_02장 (1).pdf',\n",
       " 'C:\\\\Users\\\\user\\\\Downloads\\\\시스템프로그래밍_01주차.pdf',\n",
       " 'C:\\\\Users\\\\user\\\\Downloads\\\\시스템프로그래밍_01장.pdf',\n",
       " 'C:\\\\Users\\\\user\\\\Downloads\\\\시스템프로그래밍_01장 (1).pdf',\n",
       " 'C:\\\\Users\\\\user\\\\Downloads\\\\리눅스마스터2급20211211(교사용).hwp',\n",
       " 'C:\\\\Users\\\\user\\\\Downloads\\\\리눅스 명령어 연습_요약.pdf',\n",
       " 'C:\\\\Users\\\\user\\\\Downloads\\\\리눅스 명령어 연습_요약 (1).pdf',\n",
       " 'C:\\\\Users\\\\user\\\\Downloads\\\\데이터분석_6장 (1).pdf',\n",
       " 'C:\\\\Users\\\\user\\\\Downloads\\\\데이터분석_5장.pdf',\n",
       " 'C:\\\\Users\\\\user\\\\Downloads\\\\데이터분석_4장.pdf',\n",
       " 'C:\\\\Users\\\\user\\\\Downloads\\\\데이터분석_3장.pdf',\n",
       " 'C:\\\\Users\\\\user\\\\Downloads\\\\네트워크_9장_TCP 프로토콜.pdf',\n",
       " 'C:\\\\Users\\\\user\\\\Downloads\\\\네트워크_9장_TCP 프로토콜 (1).pdf',\n",
       " 'C:\\\\Users\\\\user\\\\Downloads\\\\네트워크_8장_네트워크 계층.pdf',\n",
       " 'C:\\\\Users\\\\user\\\\Downloads\\\\네트워크_8장_네트워크 계층 (1).pdf',\n",
       " 'C:\\\\Users\\\\user\\\\Downloads\\\\네트워크_7장_IP 프로토콜.pdf',\n",
       " 'C:\\\\Users\\\\user\\\\Downloads\\\\네트워크_7장_IP 프로토콜 (1).pdf',\n",
       " 'C:\\\\Users\\\\user\\\\Downloads\\\\네트워크_2장_네트워크 모델.pdf',\n",
       " 'C:\\\\Users\\\\user\\\\Downloads\\\\강의소개_시스템프로그래밍1.pdf',\n",
       " 'C:\\\\Users\\\\user\\\\Downloads\\\\강의소개_시스템프로그래밍1 (1).pdf',\n",
       " 'C:\\\\Users\\\\user\\\\Downloads\\\\ubuntu-20.04.4-desktop-amd64.iso',\n",
       " 'C:\\\\Users\\\\user\\\\Downloads\\\\train.csv',\n",
       " 'C:\\\\Users\\\\user\\\\Downloads\\\\test.csv',\n",
       " 'C:\\\\Users\\\\user\\\\Downloads\\\\test (1).csv',\n",
       " 'C:\\\\Users\\\\user\\\\Downloads\\\\temp',\n",
       " 'C:\\\\Users\\\\user\\\\Downloads\\\\sales-mar-2014.xlsx',\n",
       " 'C:\\\\Users\\\\user\\\\Downloads\\\\sales-jan-2014.xlsx',\n",
       " 'C:\\\\Users\\\\user\\\\Downloads\\\\sales-feb-2014.xlsx',\n",
       " 'C:\\\\Users\\\\user\\\\Downloads\\\\housing.data',\n",
       " 'C:\\\\Users\\\\user\\\\Downloads\\\\desktop.ini',\n",
       " 'C:\\\\Users\\\\user\\\\Downloads\\\\ch8.hwp',\n",
       " 'C:\\\\Users\\\\user\\\\Downloads\\\\ch5.hwp',\n",
       " 'C:\\\\Users\\\\user\\\\Downloads\\\\Wireshark-win64-3.6.3.exe',\n",
       " 'C:\\\\Users\\\\user\\\\Downloads\\\\VMware-player-full-16.2.3-19376536.exe',\n",
       " 'C:\\\\Users\\\\user\\\\Downloads\\\\KakaoTalk_Setup.exe',\n",
       " 'C:\\\\Users\\\\user\\\\Downloads\\\\IP 프로토콜.pdf',\n",
       " 'C:\\\\Users\\\\user\\\\Downloads\\\\8_2022학년도_전공심화_교과과정표(인터넷보안공학과).pdf',\n",
       " 'C:\\\\Users\\\\user\\\\Downloads\\\\6_2022학년도_전공심화_교과과정표(컴퓨터공학과).pdf',\n",
       " 'C:\\\\Users\\\\user\\\\Downloads\\\\0503.xlsx',\n",
       " 'C:\\\\Users\\\\user\\\\Downloads\\\\0503 (1).xlsx']"
      ]
     },
     "execution_count": 8,
     "metadata": {},
     "output_type": "execute_result"
    }
   ],
   "source": [
    "DATA_DIR=\"C:\\\\Users\\\\user\\\\Downloads\"\n",
    "data_files=sorted([os.path.join(DATA_DIR, filename) for filename in os.listdir(DATA_DIR)], reverse=True)\n",
    "data_files"
   ]
  },
  {
   "cell_type": "code",
   "execution_count": 11,
   "id": "ff7646c8",
   "metadata": {},
   "outputs": [
    {
     "ename": "UnicodeDecodeError",
     "evalue": "'utf-8' codec can't decode byte 0xd0 in position 0: invalid continuation byte",
     "output_type": "error",
     "traceback": [
      "\u001b[1;31m---------------------------------------------------------------------------\u001b[0m",
      "\u001b[1;31mUnicodeDecodeError\u001b[0m                        Traceback (most recent call last)",
      "\u001b[1;32m~\\AppData\\Local\\Temp/ipykernel_11248/1408506379.py\u001b[0m in \u001b[0;36m<module>\u001b[1;34m\u001b[0m\n\u001b[0;32m      1\u001b[0m \u001b[0mdf_list\u001b[0m\u001b[1;33m=\u001b[0m\u001b[1;33m[\u001b[0m\u001b[1;33m]\u001b[0m\u001b[1;33m\u001b[0m\u001b[1;33m\u001b[0m\u001b[0m\n\u001b[0;32m      2\u001b[0m \u001b[1;32mfor\u001b[0m \u001b[0mfilename\u001b[0m \u001b[1;32min\u001b[0m \u001b[0mdata_files\u001b[0m\u001b[1;33m:\u001b[0m\u001b[1;33m\u001b[0m\u001b[1;33m\u001b[0m\u001b[0m\n\u001b[1;32m----> 3\u001b[1;33m     \u001b[0mdf_list\u001b[0m\u001b[1;33m.\u001b[0m\u001b[0mappend\u001b[0m\u001b[1;33m(\u001b[0m\u001b[0mpd\u001b[0m\u001b[1;33m.\u001b[0m\u001b[0mread_csv\u001b[0m\u001b[1;33m(\u001b[0m\u001b[0mfilename\u001b[0m\u001b[1;33m)\u001b[0m\u001b[1;33m)\u001b[0m\u001b[1;33m\u001b[0m\u001b[1;33m\u001b[0m\u001b[0m\n\u001b[0m\u001b[0;32m      4\u001b[0m \u001b[1;33m\u001b[0m\u001b[0m\n\u001b[0;32m      5\u001b[0m \u001b[0mdf\u001b[0m\u001b[1;33m=\u001b[0m\u001b[0mpd\u001b[0m\u001b[1;33m.\u001b[0m\u001b[0mconcat\u001b[0m\u001b[1;33m(\u001b[0m\u001b[0mdf_list\u001b[0m\u001b[1;33m,\u001b[0m \u001b[0msort\u001b[0m\u001b[1;33m=\u001b[0m\u001b[1;32mFalse\u001b[0m\u001b[1;33m)\u001b[0m\u001b[1;33m\u001b[0m\u001b[1;33m\u001b[0m\u001b[0m\n",
      "\u001b[1;32mC:\\ProgramData\\Miniconda3\\envs\\ml\\lib\\site-packages\\pandas\\util\\_decorators.py\u001b[0m in \u001b[0;36mwrapper\u001b[1;34m(*args, **kwargs)\u001b[0m\n\u001b[0;32m    309\u001b[0m                     \u001b[0mstacklevel\u001b[0m\u001b[1;33m=\u001b[0m\u001b[0mstacklevel\u001b[0m\u001b[1;33m,\u001b[0m\u001b[1;33m\u001b[0m\u001b[1;33m\u001b[0m\u001b[0m\n\u001b[0;32m    310\u001b[0m                 )\n\u001b[1;32m--> 311\u001b[1;33m             \u001b[1;32mreturn\u001b[0m \u001b[0mfunc\u001b[0m\u001b[1;33m(\u001b[0m\u001b[1;33m*\u001b[0m\u001b[0margs\u001b[0m\u001b[1;33m,\u001b[0m \u001b[1;33m**\u001b[0m\u001b[0mkwargs\u001b[0m\u001b[1;33m)\u001b[0m\u001b[1;33m\u001b[0m\u001b[1;33m\u001b[0m\u001b[0m\n\u001b[0m\u001b[0;32m    312\u001b[0m \u001b[1;33m\u001b[0m\u001b[0m\n\u001b[0;32m    313\u001b[0m         \u001b[1;32mreturn\u001b[0m \u001b[0mwrapper\u001b[0m\u001b[1;33m\u001b[0m\u001b[1;33m\u001b[0m\u001b[0m\n",
      "\u001b[1;32mC:\\ProgramData\\Miniconda3\\envs\\ml\\lib\\site-packages\\pandas\\io\\parsers\\readers.py\u001b[0m in \u001b[0;36mread_csv\u001b[1;34m(filepath_or_buffer, sep, delimiter, header, names, index_col, usecols, squeeze, prefix, mangle_dupe_cols, dtype, engine, converters, true_values, false_values, skipinitialspace, skiprows, skipfooter, nrows, na_values, keep_default_na, na_filter, verbose, skip_blank_lines, parse_dates, infer_datetime_format, keep_date_col, date_parser, dayfirst, cache_dates, iterator, chunksize, compression, thousands, decimal, lineterminator, quotechar, quoting, doublequote, escapechar, comment, encoding, encoding_errors, dialect, error_bad_lines, warn_bad_lines, on_bad_lines, delim_whitespace, low_memory, memory_map, float_precision, storage_options)\u001b[0m\n\u001b[0;32m    678\u001b[0m     \u001b[0mkwds\u001b[0m\u001b[1;33m.\u001b[0m\u001b[0mupdate\u001b[0m\u001b[1;33m(\u001b[0m\u001b[0mkwds_defaults\u001b[0m\u001b[1;33m)\u001b[0m\u001b[1;33m\u001b[0m\u001b[1;33m\u001b[0m\u001b[0m\n\u001b[0;32m    679\u001b[0m \u001b[1;33m\u001b[0m\u001b[0m\n\u001b[1;32m--> 680\u001b[1;33m     \u001b[1;32mreturn\u001b[0m \u001b[0m_read\u001b[0m\u001b[1;33m(\u001b[0m\u001b[0mfilepath_or_buffer\u001b[0m\u001b[1;33m,\u001b[0m \u001b[0mkwds\u001b[0m\u001b[1;33m)\u001b[0m\u001b[1;33m\u001b[0m\u001b[1;33m\u001b[0m\u001b[0m\n\u001b[0m\u001b[0;32m    681\u001b[0m \u001b[1;33m\u001b[0m\u001b[0m\n\u001b[0;32m    682\u001b[0m \u001b[1;33m\u001b[0m\u001b[0m\n",
      "\u001b[1;32mC:\\ProgramData\\Miniconda3\\envs\\ml\\lib\\site-packages\\pandas\\io\\parsers\\readers.py\u001b[0m in \u001b[0;36m_read\u001b[1;34m(filepath_or_buffer, kwds)\u001b[0m\n\u001b[0;32m    573\u001b[0m \u001b[1;33m\u001b[0m\u001b[0m\n\u001b[0;32m    574\u001b[0m     \u001b[1;31m# Create the parser.\u001b[0m\u001b[1;33m\u001b[0m\u001b[1;33m\u001b[0m\u001b[0m\n\u001b[1;32m--> 575\u001b[1;33m     \u001b[0mparser\u001b[0m \u001b[1;33m=\u001b[0m \u001b[0mTextFileReader\u001b[0m\u001b[1;33m(\u001b[0m\u001b[0mfilepath_or_buffer\u001b[0m\u001b[1;33m,\u001b[0m \u001b[1;33m**\u001b[0m\u001b[0mkwds\u001b[0m\u001b[1;33m)\u001b[0m\u001b[1;33m\u001b[0m\u001b[1;33m\u001b[0m\u001b[0m\n\u001b[0m\u001b[0;32m    576\u001b[0m \u001b[1;33m\u001b[0m\u001b[0m\n\u001b[0;32m    577\u001b[0m     \u001b[1;32mif\u001b[0m \u001b[0mchunksize\u001b[0m \u001b[1;32mor\u001b[0m \u001b[0miterator\u001b[0m\u001b[1;33m:\u001b[0m\u001b[1;33m\u001b[0m\u001b[1;33m\u001b[0m\u001b[0m\n",
      "\u001b[1;32mC:\\ProgramData\\Miniconda3\\envs\\ml\\lib\\site-packages\\pandas\\io\\parsers\\readers.py\u001b[0m in \u001b[0;36m__init__\u001b[1;34m(self, f, engine, **kwds)\u001b[0m\n\u001b[0;32m    931\u001b[0m \u001b[1;33m\u001b[0m\u001b[0m\n\u001b[0;32m    932\u001b[0m         \u001b[0mself\u001b[0m\u001b[1;33m.\u001b[0m\u001b[0mhandles\u001b[0m\u001b[1;33m:\u001b[0m \u001b[0mIOHandles\u001b[0m \u001b[1;33m|\u001b[0m \u001b[1;32mNone\u001b[0m \u001b[1;33m=\u001b[0m \u001b[1;32mNone\u001b[0m\u001b[1;33m\u001b[0m\u001b[1;33m\u001b[0m\u001b[0m\n\u001b[1;32m--> 933\u001b[1;33m         \u001b[0mself\u001b[0m\u001b[1;33m.\u001b[0m\u001b[0m_engine\u001b[0m \u001b[1;33m=\u001b[0m \u001b[0mself\u001b[0m\u001b[1;33m.\u001b[0m\u001b[0m_make_engine\u001b[0m\u001b[1;33m(\u001b[0m\u001b[0mf\u001b[0m\u001b[1;33m,\u001b[0m \u001b[0mself\u001b[0m\u001b[1;33m.\u001b[0m\u001b[0mengine\u001b[0m\u001b[1;33m)\u001b[0m\u001b[1;33m\u001b[0m\u001b[1;33m\u001b[0m\u001b[0m\n\u001b[0m\u001b[0;32m    934\u001b[0m \u001b[1;33m\u001b[0m\u001b[0m\n\u001b[0;32m    935\u001b[0m     \u001b[1;32mdef\u001b[0m \u001b[0mclose\u001b[0m\u001b[1;33m(\u001b[0m\u001b[0mself\u001b[0m\u001b[1;33m)\u001b[0m\u001b[1;33m:\u001b[0m\u001b[1;33m\u001b[0m\u001b[1;33m\u001b[0m\u001b[0m\n",
      "\u001b[1;32mC:\\ProgramData\\Miniconda3\\envs\\ml\\lib\\site-packages\\pandas\\io\\parsers\\readers.py\u001b[0m in \u001b[0;36m_make_engine\u001b[1;34m(self, f, engine)\u001b[0m\n\u001b[0;32m   1229\u001b[0m \u001b[1;33m\u001b[0m\u001b[0m\n\u001b[0;32m   1230\u001b[0m         \u001b[1;32mtry\u001b[0m\u001b[1;33m:\u001b[0m\u001b[1;33m\u001b[0m\u001b[1;33m\u001b[0m\u001b[0m\n\u001b[1;32m-> 1231\u001b[1;33m             \u001b[1;32mreturn\u001b[0m \u001b[0mmapping\u001b[0m\u001b[1;33m[\u001b[0m\u001b[0mengine\u001b[0m\u001b[1;33m]\u001b[0m\u001b[1;33m(\u001b[0m\u001b[0mf\u001b[0m\u001b[1;33m,\u001b[0m \u001b[1;33m**\u001b[0m\u001b[0mself\u001b[0m\u001b[1;33m.\u001b[0m\u001b[0moptions\u001b[0m\u001b[1;33m)\u001b[0m\u001b[1;33m\u001b[0m\u001b[1;33m\u001b[0m\u001b[0m\n\u001b[0m\u001b[0;32m   1232\u001b[0m         \u001b[1;32mexcept\u001b[0m \u001b[0mException\u001b[0m\u001b[1;33m:\u001b[0m\u001b[1;33m\u001b[0m\u001b[1;33m\u001b[0m\u001b[0m\n\u001b[0;32m   1233\u001b[0m             \u001b[1;32mif\u001b[0m \u001b[0mself\u001b[0m\u001b[1;33m.\u001b[0m\u001b[0mhandles\u001b[0m \u001b[1;32mis\u001b[0m \u001b[1;32mnot\u001b[0m \u001b[1;32mNone\u001b[0m\u001b[1;33m:\u001b[0m\u001b[1;33m\u001b[0m\u001b[1;33m\u001b[0m\u001b[0m\n",
      "\u001b[1;32mC:\\ProgramData\\Miniconda3\\envs\\ml\\lib\\site-packages\\pandas\\io\\parsers\\c_parser_wrapper.py\u001b[0m in \u001b[0;36m__init__\u001b[1;34m(self, src, **kwds)\u001b[0m\n\u001b[0;32m     73\u001b[0m \u001b[1;33m\u001b[0m\u001b[0m\n\u001b[0;32m     74\u001b[0m         \u001b[0mkwds\u001b[0m\u001b[1;33m[\u001b[0m\u001b[1;34m\"dtype\"\u001b[0m\u001b[1;33m]\u001b[0m \u001b[1;33m=\u001b[0m \u001b[0mensure_dtype_objs\u001b[0m\u001b[1;33m(\u001b[0m\u001b[0mkwds\u001b[0m\u001b[1;33m.\u001b[0m\u001b[0mget\u001b[0m\u001b[1;33m(\u001b[0m\u001b[1;34m\"dtype\"\u001b[0m\u001b[1;33m,\u001b[0m \u001b[1;32mNone\u001b[0m\u001b[1;33m)\u001b[0m\u001b[1;33m)\u001b[0m\u001b[1;33m\u001b[0m\u001b[1;33m\u001b[0m\u001b[0m\n\u001b[1;32m---> 75\u001b[1;33m         \u001b[0mself\u001b[0m\u001b[1;33m.\u001b[0m\u001b[0m_reader\u001b[0m \u001b[1;33m=\u001b[0m \u001b[0mparsers\u001b[0m\u001b[1;33m.\u001b[0m\u001b[0mTextReader\u001b[0m\u001b[1;33m(\u001b[0m\u001b[0msrc\u001b[0m\u001b[1;33m,\u001b[0m \u001b[1;33m**\u001b[0m\u001b[0mkwds\u001b[0m\u001b[1;33m)\u001b[0m\u001b[1;33m\u001b[0m\u001b[1;33m\u001b[0m\u001b[0m\n\u001b[0m\u001b[0;32m     76\u001b[0m \u001b[1;33m\u001b[0m\u001b[0m\n\u001b[0;32m     77\u001b[0m         \u001b[0mself\u001b[0m\u001b[1;33m.\u001b[0m\u001b[0munnamed_cols\u001b[0m \u001b[1;33m=\u001b[0m \u001b[0mself\u001b[0m\u001b[1;33m.\u001b[0m\u001b[0m_reader\u001b[0m\u001b[1;33m.\u001b[0m\u001b[0munnamed_cols\u001b[0m\u001b[1;33m\u001b[0m\u001b[1;33m\u001b[0m\u001b[0m\n",
      "\u001b[1;32mC:\\ProgramData\\Miniconda3\\envs\\ml\\lib\\site-packages\\pandas\\_libs\\parsers.pyx\u001b[0m in \u001b[0;36mpandas._libs.parsers.TextReader.__cinit__\u001b[1;34m()\u001b[0m\n",
      "\u001b[1;32mC:\\ProgramData\\Miniconda3\\envs\\ml\\lib\\site-packages\\pandas\\_libs\\parsers.pyx\u001b[0m in \u001b[0;36mpandas._libs.parsers.TextReader._get_header\u001b[1;34m()\u001b[0m\n",
      "\u001b[1;32mC:\\ProgramData\\Miniconda3\\envs\\ml\\lib\\site-packages\\pandas\\_libs\\parsers.pyx\u001b[0m in \u001b[0;36mpandas._libs.parsers.TextReader._tokenize_rows\u001b[1;34m()\u001b[0m\n",
      "\u001b[1;32mC:\\ProgramData\\Miniconda3\\envs\\ml\\lib\\site-packages\\pandas\\_libs\\parsers.pyx\u001b[0m in \u001b[0;36mpandas._libs.parsers.raise_parser_error\u001b[1;34m()\u001b[0m\n",
      "\u001b[1;31mUnicodeDecodeError\u001b[0m: 'utf-8' codec can't decode byte 0xd0 in position 0: invalid continuation byte"
     ]
    }
   ],
   "source": [
    "df_list=[]\n",
    "for filename in data_files:\n",
    "    df_list.append(pd.read_csv(filename))\n",
    "\n",
    "df=pd.concat(df_list, sort=False)\n",
    "\n",
    "df=pd.reset_index(drop=True)\n",
    "\n",
    "df.head(5)"
   ]
  },
  {
   "cell_type": "code",
   "execution_count": 13,
   "id": "14b2c75e",
   "metadata": {},
   "outputs": [
    {
     "ename": "NameError",
     "evalue": "name 'df' is not defined",
     "output_type": "error",
     "traceback": [
      "\u001b[1;31m---------------------------------------------------------------------------\u001b[0m",
      "\u001b[1;31mNameError\u001b[0m                                 Traceback (most recent call last)",
      "\u001b[1;32m~\\AppData\\Local\\Temp/ipykernel_11248/95750042.py\u001b[0m in \u001b[0;36m<module>\u001b[1;34m\u001b[0m\n\u001b[1;32m----> 1\u001b[1;33m \u001b[0mnumber_of_train_dataset\u001b[0m \u001b[1;33m=\u001b[0m \u001b[0mdf\u001b[0m\u001b[1;33m.\u001b[0m\u001b[0mSurvived\u001b[0m\u001b[1;33m.\u001b[0m\u001b[0mnotnull\u001b[0m\u001b[1;33m(\u001b[0m\u001b[1;33m)\u001b[0m\u001b[1;33m.\u001b[0m\u001b[0msum\u001b[0m\u001b[1;33m(\u001b[0m\u001b[1;33m)\u001b[0m\u001b[1;33m\u001b[0m\u001b[1;33m\u001b[0m\u001b[0m\n\u001b[0m\u001b[0;32m      2\u001b[0m \u001b[0mnumber_of_test_dataset\u001b[0m \u001b[1;33m=\u001b[0m \u001b[0mdf\u001b[0m\u001b[1;33m.\u001b[0m\u001b[0mSurvived\u001b[0m\u001b[1;33m.\u001b[0m\u001b[0misnull\u001b[0m\u001b[1;33m(\u001b[0m\u001b[1;33m)\u001b[0m\u001b[1;33m.\u001b[0m\u001b[0msum\u001b[0m\u001b[1;33m(\u001b[0m\u001b[1;33m)\u001b[0m\u001b[1;33m\u001b[0m\u001b[1;33m\u001b[0m\u001b[0m\n\u001b[0;32m      3\u001b[0m \u001b[0my_true\u001b[0m \u001b[1;33m=\u001b[0m \u001b[0mdf\u001b[0m\u001b[1;33m.\u001b[0m\u001b[0mpop\u001b[0m\u001b[1;33m(\u001b[0m\u001b[1;34m\"Survived\"\u001b[0m\u001b[1;33m)\u001b[0m\u001b[1;33m[\u001b[0m\u001b[1;33m:\u001b[0m\u001b[0mnumber_of_train_dataset\u001b[0m\u001b[1;33m]\u001b[0m\u001b[1;33m\u001b[0m\u001b[1;33m\u001b[0m\u001b[0m\n",
      "\u001b[1;31mNameError\u001b[0m: name 'df' is not defined"
     ]
    }
   ],
   "source": [
    "number_of_train_dataset = df.Survived.notnull().sum()\n",
    "number_of_test_dataset = df.Survived.isnull().sum()\n",
    "y_true = df.pop(\"Survived\")[:number_of_train_dataset]"
   ]
  },
  {
   "cell_type": "code",
   "execution_count": null,
   "id": "e228256a",
   "metadata": {},
   "outputs": [],
   "source": []
  }
 ],
 "metadata": {
  "kernelspec": {
   "display_name": "Python 3 (ipykernel)",
   "language": "python",
   "name": "python3"
  },
  "language_info": {
   "codemirror_mode": {
    "name": "ipython",
    "version": 3
   },
   "file_extension": ".py",
   "mimetype": "text/x-python",
   "name": "python",
   "nbconvert_exporter": "python",
   "pygments_lexer": "ipython3",
   "version": "3.9.7"
  }
 },
 "nbformat": 4,
 "nbformat_minor": 5
}
